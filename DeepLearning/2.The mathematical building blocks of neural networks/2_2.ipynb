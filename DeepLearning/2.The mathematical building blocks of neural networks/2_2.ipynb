{
 "cells": [
  {
   "cell_type": "code",
   "execution_count": 118,
   "metadata": {
    "collapsed": true
   },
   "outputs": [],
   "source": [
    "# A tensor that contains only one number is called a scalar (or scalar tensor, or rank-0 tensor, or 0D tensor). In NumPy, a float32\n",
    "# or float64 number is a scalar tensor (orscalar array). You can display the number of axes of a NumPy tensor\n",
    "# via the ndim attribute; a scalar tensor has 0 axes (ndim == 0). The number of axes of a tensor is also\n",
    "# called its rank.\n",
    "import numpy as np\n",
    "x = np.array(12)\n",
    "print(x)\n",
    "print(x.ndim)"
   ]
  },
  {
   "cell_type": "code",
   "execution_count": 119,
   "metadata": {},
   "outputs": [],
   "source": [
    "# An array of numbers is called vectors,or rank-1 tensor,or 1D tensor\n",
    "# A rank-1 tensor is said to have exactly one axis.\n",
    "x = np.array([12,3,6,14,7])\n",
    "print(x)\n",
    "print(x.ndim)"
   ]
  },
  {
   "cell_type": "code",
   "execution_count": 120,
   "metadata": {},
   "outputs": [],
   "source": [
    "# An array of vectors is a matrix,or rank-2 tensor,or 2D tensor.\n",
    "# A matrix has two axes.\n",
    "x = np.array([[5,78,2,34,0],\n",
    "              [6,79,3,35,1],\n",
    "              [7,80,4,36,2]])\n",
    "print(x.ndim)"
   ]
  },
  {
   "cell_type": "code",
   "execution_count": 121,
   "metadata": {},
   "outputs": [],
   "source": [
    "# Pack such matrices in a new array,we get a rank-3 tensor\n",
    "# A cube of numbers\n",
    "x = np.array([[[5,78,2,34,0],\n",
    "              [6,79,3,35,1],\n",
    "              [7,80,4,36,2]],\n",
    "              [[5,78,2,34,0],\n",
    "              [6,79,3,35,1],\n",
    "              [7,80,4,36,2]],\n",
    "              [[5,78,2,34,0],\n",
    "              [6,79,3,35,1],\n",
    "              [7,80,4,36,2]]])\n",
    "print(x.ndim)\n",
    "# pack rank-3 tensor in an array,we create a rank-4 tensor"
   ]
  },
  {
   "cell_type": "code",
   "execution_count": 122,
   "metadata": {},
   "outputs": [],
   "source": [
    "from tensorflow.python import keras\n",
    "from keras.datasets import mnist\n",
    "(train_images,train_labels),(test_images,test_labels)=mnist.load_data()"
   ]
  },
  {
   "cell_type": "code",
   "execution_count": 123,
   "metadata": {},
   "outputs": [],
   "source": [
    "train_images.ndim"
   ]
  },
  {
   "cell_type": "code",
   "execution_count": 124,
   "metadata": {},
   "outputs": [],
   "source": [
    "train_images.shape\n"
   ]
  },
  {
   "cell_type": "code",
   "execution_count": 107,
   "metadata": {},
   "outputs": [],
   "source": [
    "train_images.dtype"
   ]
  },
  {
   "cell_type": "code",
   "execution_count": 108,
   "metadata": {},
   "outputs": [],
   "source": [
    "# Here is a rank-3 tensor of 8-bit integers\n",
    "# an array of 60,000 matrices of 28*28 integers\n",
    "# Each such matrix is a grayscale image,with coefficients between 0 and 255\n",
    "import matplotlib.pyplot as plt\n",
    "\n",
    "# display the fourth digit in this rank-3 tensor\n",
    "digit = train_images[4]\n",
    "plt.imshow(digit,cmap=plt.cm.binary)\n",
    "plt.show\n"
   ]
  },
  {
   "cell_type": "code",
   "execution_count": 109,
   "metadata": {},
   "outputs": [],
   "source": [
    "train_labels[4]"
   ]
  },
  {
   "cell_type": "code",
   "execution_count": 110,
   "metadata": {},
   "outputs": [],
   "source": [
    "## manipulating tensors in NumPy\n",
    "my_slice = train_images[10:100]\n",
    "print(my_slice.shape)"
   ]
  },
  {
   "cell_type": "code",
   "execution_count": 111,
   "metadata": {},
   "outputs": [],
   "source": [
    "# It's equivalent to this more detailed notation,which specifies a start index\n",
    "# and stop index for the slice along each tensor axis.\n",
    "# Note that:is equivalent to selecting the entire axis.\n",
    "my_slice = train_images[10:100,:,:]\n",
    "print(my_slice.shape)"
   ]
  },
  {
   "cell_type": "code",
   "execution_count": 112,
   "metadata": {},
   "outputs": [],
   "source": [
    "my_slice = train_images[10:100,0:28,0:28]\n",
    "print(my_slice.shape)"
   ]
  },
  {
   "cell_type": "code",
   "execution_count": 113,
   "metadata": {},
   "outputs": [],
   "source": [
    "# We can select slices between any two indices alone each tensor axis.\n",
    "my_slice = train_images[:,14:,14:]"
   ]
  },
  {
   "cell_type": "code",
   "execution_count": 114,
   "metadata": {},
   "outputs": [],
   "source": [
    "# Use negative indices\n",
    "my_slice = train_images[:,7:-7,7:-7]"
   ]
  },
  {
   "cell_type": "markdown",
   "metadata": {},
   "source": [
    "## The notion of data batches\n",
    "The first axis in all data tensors you'll come across\n",
    "in deep learning will be the *samples axis*\n",
    "\n",
    "Deep learning models don't process an entire dataset at once;rather,they\n",
    "break the data into small batches."
   ]
  },
  {
   "cell_type": "code",
   "execution_count": 115,
   "outputs": [],
   "source": [
    "batch = train_images[:128]"
   ],
   "metadata": {
    "collapsed": false
   }
  },
  {
   "cell_type": "code",
   "execution_count": 116,
   "outputs": [],
   "source": [
    "# next batch\n",
    "batch = train_images[128:256]"
   ],
   "metadata": {
    "collapsed": false
   }
  },
  {
   "cell_type": "code",
   "execution_count": 117,
   "outputs": [],
   "source": [
    "# nth batch\n",
    "n = 3\n",
    "batch = train_images[128*n:128*(n+1)]"
   ],
   "metadata": {
    "collapsed": false
   }
  },
  {
   "cell_type": "markdown",
   "source": [
    "## Real-world examples of data tensors\n",
    "+ Vector data---Rank-2 tensors of shape(samples,features),where each sample is a vector of numerical attributes(\"features\")\n",
    "+ Timeseries data or sequence data---Rank-3 tensors of shape(samples,timesteps,features),where each sample is a sequence(of length timesteps)of feature vectors\n",
    "+ Images---Rank-4 tensors of shape(samples,height,width,channels),where each sample is a 2D grid of pixels,and each pixel is represented by a vector of values(\"channels\")\n",
    "+ Video---Rank-5 tensors of shape(samples,frames,height,width,channels),where each sample is a sequence(of length frames) of images."
   ],
   "metadata": {
    "collapsed": false
   }
  },
  {
   "cell_type": "code",
   "execution_count": 117,
   "outputs": [],
   "source": [],
   "metadata": {
    "collapsed": false
   }
  }
 ],
 "metadata": {
  "kernelspec": {
   "display_name": "Python 3 (ipykernel)",
   "language": "python",
   "name": "python3"
  },
  "language_info": {
   "codemirror_mode": {
    "name": "ipython",
    "version": 3
   },
   "file_extension": ".py",
   "mimetype": "text/x-python",
   "name": "python",
   "nbconvert_exporter": "python",
   "pygments_lexer": "ipython3",
   "version": "3.8.15"
  }
 },
 "nbformat": 4,
 "nbformat_minor": 1
}