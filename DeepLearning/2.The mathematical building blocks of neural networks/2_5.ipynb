{
 "cells": [
  {
   "cell_type": "code",
   "execution_count": 31,
   "metadata": {
    "collapsed": true
   },
   "outputs": [],
   "source": [
    "import tensorflow as tf\n",
    "from tensorflow import keras\n",
    "from keras.datasets import mnist\n",
    "(train_images, train_labels),(test_images,test_labels) = mnist.load_data()\n",
    "train_images = train_images.reshape(60000,28*28)\n",
    "train_images = train_images.astype(\"float32\")/255\n",
    "test_images = test_images.reshape(10000,28*28)\n",
    "test_images = test_images.astype(\"float32\")/255"
   ]
  },
  {
   "cell_type": "markdown",
   "source": [
    "保存在float32类型的NumPy张量中，形状分别为`(60000,28*28)`,`(10000,28*28)`"
   ],
   "metadata": {
    "collapsed": false
   }
  },
  {
   "cell_type": "code",
   "execution_count": 32,
   "outputs": [],
   "source": [
    "#模型部分\n",
    "from keras import layers\n",
    "model = keras.Sequential([\n",
    "    layers.Dense(512,activation='relu'),\n",
    "    layers.Dense(10,activation='softmax')\n",
    "]\n",
    ")"
   ],
   "metadata": {
    "collapsed": false
   }
  },
  {
   "cell_type": "markdown",
   "source": [
    "模型包含两个链接在一起的Dense层，每层都对输入数据做了一些简单的张量运算，这些运算涉及了权重和张量。"
   ],
   "metadata": {
    "collapsed": false
   }
  },
  {
   "cell_type": "code",
   "execution_count": 33,
   "outputs": [],
   "source": [
    "model.compile(optimizer=\"rmsprop\",\n",
    "              loss=\"sparse_categorical_crossentropy\",\n",
    "              metrics=[\"accuracy\"]\n",
    "              )"
   ],
   "metadata": {
    "collapsed": false
   }
  },
  {
   "cell_type": "markdown",
   "source": [
    "sparse_categorical_crossentropy是损失函数，是用于学习权重张量的反馈信号，在训练过程中应该最小化\n",
    "降低损失值是通过小批量SGD实现的，即第一个参数，rmsprop优化器"
   ],
   "metadata": {
    "collapsed": false
   }
  },
  {
   "cell_type": "code",
   "execution_count": 34,
   "outputs": [
    {
     "name": "stdout",
     "output_type": "stream",
     "text": [
      "Epoch 1/5\n",
      "469/469 [==============================] - 2s 4ms/step - loss: 0.2659 - accuracy: 0.9224\n",
      "Epoch 2/5\n",
      "469/469 [==============================] - 2s 3ms/step - loss: 0.1075 - accuracy: 0.9678\n",
      "Epoch 3/5\n",
      "469/469 [==============================] - 2s 3ms/step - loss: 0.0704 - accuracy: 0.9782\n",
      "Epoch 4/5\n",
      "469/469 [==============================] - 1s 3ms/step - loss: 0.0508 - accuracy: 0.9847\n",
      "Epoch 5/5\n",
      "469/469 [==============================] - 1s 3ms/step - loss: 0.0377 - accuracy: 0.9888\n"
     ]
    },
    {
     "data": {
      "text/plain": "<keras.callbacks.History at 0x1697c00d0>"
     },
     "execution_count": 34,
     "metadata": {},
     "output_type": "execute_result"
    }
   ],
   "source": [
    "# 训练循环\n",
    "model.fit(train_images,train_labels,epochs=5,batch_size=128)"
   ],
   "metadata": {
    "collapsed": false
   }
  },
  {
   "cell_type": "markdown",
   "source": [
    "在调用fit的过程中，训练数据不点迭代，一共迭代了5轮，每一轮叫做一共epoch，模型会计算损失相对于权重的梯度，从而向减小该批量对应损失值的方向移动"
   ],
   "metadata": {
    "collapsed": false
   }
  },
  {
   "cell_type": "markdown",
   "source": [
    "## 使用TensorFlow从头实现第一个例子"
   ],
   "metadata": {
    "collapsed": false
   }
  },
  {
   "cell_type": "code",
   "execution_count": 35,
   "outputs": [],
   "source": [
    "#简单的Dense类\n",
    "import tensorflow as tf\n",
    "class NaiveDense:\n",
    "    def __init__(self,input_size,output_size,activation):\n",
    "        self.activation  = activation\n",
    "\n",
    "        w_shape = (input_size,output_size) #创建形状为(input_size,output_size)的矩阵W，并将其随机化\n",
    "        w_initial_value = tf.random.uniform(w_shape,minval=0,maxval=1e-1)\n",
    "        self.W = tf.Variable(w_initial_value)\n",
    "\n",
    "        b_shape = (output_size,) #创建一个形状为(output_size)的零向量b\n",
    "        b_initial_value = tf.zeros(b_shape)\n",
    "        self.b = tf.Variable(b_initial_value)\n",
    "\n",
    " #向前传播\n",
    "    def __call__(self, inputs):\n",
    "        return self.activation(tf.matmul(inputs,self.W)+self.b)\n",
    "    @property\n",
    "    def weights(self): #获取该层权重的便捷方法\n",
    "        return [self.W,self.b]\n"
   ],
   "metadata": {
    "collapsed": false
   }
  },
  {
   "cell_type": "markdown",
   "source": [
    "## 简单的Sequential类"
   ],
   "metadata": {
    "collapsed": false
   }
  },
  {
   "cell_type": "code",
   "execution_count": 36,
   "outputs": [],
   "source": [
    "# 创建NaiveSequential类，将这些层链接起来\n",
    "class NaiveSequential:\n",
    "    def __init__(self, layers):\n",
    "        self.layers = layers\n",
    "\n",
    "    def __call__(self,inputs):\n",
    "        x = inputs\n",
    "        for layer in self.layers:\n",
    "            x = layer(x)\n",
    "        return x\n",
    "    # 记录该层的参数\n",
    "    @property\n",
    "    def weights(self):\n",
    "        weights = []\n",
    "        for layer in self.layers:\n",
    "            weights += layer.weights\n",
    "        return weights"
   ],
   "metadata": {
    "collapsed": false
   }
  },
  {
   "cell_type": "code",
   "execution_count": 37,
   "outputs": [],
   "source": [
    "# 利用NaiverDense和NaiveSequential类，创建一个与Keras类似的模型\n",
    "model = NaiveSequential([\n",
    "    NaiveDense(input_size=28*28,output_size=512,activation=tf.nn.relu),\n",
    "    NaiveDense(input_size=512,output_size=10,activation=tf.nn.softmax)\n",
    "])\n",
    "\n",
    "assert len(model.weights) == 4"
   ],
   "metadata": {
    "collapsed": false
   }
  },
  {
   "cell_type": "markdown",
   "source": [
    "## 批量生成器"
   ],
   "metadata": {
    "collapsed": false
   }
  },
  {
   "cell_type": "code",
   "execution_count": 38,
   "outputs": [],
   "source": [
    "import math\n",
    "# 对MNIST数据进行小批量迭代\n",
    "class BatchGenerator:\n",
    "    def __init__(self,images,labels,batch_size = 128):\n",
    "        assert len(images) == len(labels)\n",
    "        self.index = 0\n",
    "        self.images = images\n",
    "        self.labels = labels\n",
    "        self.batch_size = batch_size\n",
    "        # 返回上入整数\n",
    "        self.num_batches = math.ceil(len(images)/batch_size)\n",
    "\n",
    "    def next(self):\n",
    "        images = self.images[self.index:self.index+self.batch_size]\n",
    "        labels = self.labels[self.index:self.index+self.batch_size]\n",
    "        self.index += self.batch_size\n",
    "        return images,labels"
   ],
   "metadata": {
    "collapsed": false
   }
  },
  {
   "cell_type": "code",
   "execution_count": 39,
   "outputs": [],
   "source": [
    "learning_rate = 1e-3\n",
    "def update_weights(gradients,weights):\n",
    "    # zip用于将可迭代的对象作为参数，将对象中对应的元素打包成一个个元组，然后返回这些元组组成的列表\n",
    "    for g,w in zip(gradients,weights):\n",
    "        w.assign_sub(g * learning_rate) # 相当于TensorFlow变量的-="
   ],
   "metadata": {
    "collapsed": false
   }
  },
  {
   "cell_type": "code",
   "execution_count": 40,
   "outputs": [],
   "source": [
    "def one_training_step(model,images_batch,labels_batch):\n",
    "    with tf.GradientTape() as tape:\n",
    "        predictions = model(images_batch)\n",
    "        per_sample_losses = tf.keras.losses.sparse_categorical_crossentropy(\n",
    "            labels_batch,predictions\n",
    "        )\n",
    "        average_loss = tf.reduce_mean(per_sample_losses)\n",
    "        # 计算相对于权重的的梯度，输出的gradients是一个列表，每个元素对应model.weights列表的权重\n",
    "        gradients = tape.gradient(average_loss,model.weights)\n",
    "        # 利用梯度更新权重\n",
    "        update_weights(gradients,model.weights)\n",
    "        return average_loss"
   ],
   "metadata": {
    "collapsed": false
   }
  },
  {
   "cell_type": "code",
   "execution_count": 41,
   "outputs": [],
   "source": [
    "# 实践中用Keras的Optimizer更新权重\n",
    "from tensorflow import keras\n",
    "from keras import optimizers\n",
    "optimizer = optimizers.SGD(learning_rate=1e-3)\n",
    "def update_weights(gradients,weights):\n",
    "    optimizer.apply_gradients(zip(gradients,weights))"
   ],
   "metadata": {
    "collapsed": false
   }
  },
  {
   "cell_type": "markdown",
   "source": [
    "## 完整的循环训练"
   ],
   "metadata": {
    "collapsed": false
   }
  },
  {
   "cell_type": "code",
   "execution_count": 42,
   "outputs": [],
   "source": [
    "# 一轮训练就是对训练数据的每个批量都重复上述训练步骤\n",
    "# 完整的训练循环就是重复多轮训练\n",
    "def fit(model,images,labels,epochs,bath_size = 128):\n",
    "    for epoch_counter in range(epochs):\n",
    "        print(f\"Epoch {epoch_counter}\")\n",
    "        batch_generator = BatchGenerator(images,labels)\n",
    "        for batch_counter in range(batch_generator.num_batches):\n",
    "            images_batch,labels_batch = batch_generator.next()\n",
    "            loss = one_training_step(model,images_batch,labels_batch)\n",
    "            if batch_counter %100 == 0:\n",
    "                print(f\"loss at batch {batch_counter}:{loss:.2f}\")"
   ],
   "metadata": {
    "collapsed": false
   }
  },
  {
   "cell_type": "code",
   "execution_count": 44,
   "outputs": [
    {
     "name": "stdout",
     "output_type": "stream",
     "text": [
      "Epoch 0\n",
      "loss at batch 0:0.64\n",
      "loss at batch 100:0.66\n",
      "loss at batch 200:0.56\n",
      "loss at batch 300:0.62\n",
      "loss at batch 400:0.70\n",
      "Epoch 1\n",
      "loss at batch 0:0.60\n",
      "loss at batch 100:0.62\n",
      "loss at batch 200:0.53\n",
      "loss at batch 300:0.59\n",
      "loss at batch 400:0.67\n",
      "Epoch 2\n",
      "loss at batch 0:0.57\n",
      "loss at batch 100:0.59\n",
      "loss at batch 200:0.50\n",
      "loss at batch 300:0.57\n",
      "loss at batch 400:0.65\n",
      "Epoch 3\n",
      "loss at batch 0:0.55\n",
      "loss at batch 100:0.56\n",
      "loss at batch 200:0.48\n",
      "loss at batch 300:0.55\n",
      "loss at batch 400:0.63\n",
      "Epoch 4\n",
      "loss at batch 0:0.53\n",
      "loss at batch 100:0.54\n",
      "loss at batch 200:0.46\n",
      "loss at batch 300:0.53\n",
      "loss at batch 400:0.61\n",
      "Epoch 5\n",
      "loss at batch 0:0.51\n",
      "loss at batch 100:0.52\n",
      "loss at batch 200:0.44\n",
      "loss at batch 300:0.51\n",
      "loss at batch 400:0.60\n",
      "Epoch 6\n",
      "loss at batch 0:0.50\n",
      "loss at batch 100:0.50\n",
      "loss at batch 200:0.43\n",
      "loss at batch 300:0.49\n",
      "loss at batch 400:0.59\n",
      "Epoch 7\n",
      "loss at batch 0:0.48\n",
      "loss at batch 100:0.48\n",
      "loss at batch 200:0.41\n",
      "loss at batch 300:0.48\n",
      "loss at batch 400:0.58\n",
      "Epoch 8\n",
      "loss at batch 0:0.47\n",
      "loss at batch 100:0.47\n",
      "loss at batch 200:0.40\n",
      "loss at batch 300:0.47\n",
      "loss at batch 400:0.57\n",
      "Epoch 9\n",
      "loss at batch 0:0.46\n",
      "loss at batch 100:0.46\n",
      "loss at batch 200:0.39\n",
      "loss at batch 300:0.46\n",
      "loss at batch 400:0.56\n"
     ]
    }
   ],
   "source": [
    "from tensorflow import keras\n",
    "from keras.datasets import mnist\n",
    "import numpy as np\n",
    "(train_images,train_labels),(test_images,test_labels) = mnist.load_data()\n",
    "\n",
    "train_images = train_images.reshape((60000,28*28))\n",
    "train_images = train_images.astype(\"float32\")/255\n",
    "test_images = test_images.reshape((10000,28 * 28))\n",
    "test_images = test_images.astype(\"float32\")/255\n",
    "\n",
    "fit(model,train_images,train_labels,epochs=10,bath_size=128)"
   ],
   "metadata": {
    "collapsed": false
   }
  },
  {
   "cell_type": "markdown",
   "source": [],
   "metadata": {
    "collapsed": false
   }
  },
  {
   "cell_type": "code",
   "execution_count": 47,
   "outputs": [
    {
     "name": "stdout",
     "output_type": "stream",
     "text": [
      "accuracy: 0.86\n"
     ]
    }
   ],
   "source": [
    "## 评估模型\n",
    "predictions = model(test_images)\n",
    "# 转换为NumPy张量\n",
    "predictions = predictions.numpy()\n",
    "predicted_labels = np.argmax(predictions,axis=1)\n",
    "matches = predicted_labels == test_labels\n",
    "print(f\"accuracy: {matches.mean():.2f}\")"
   ],
   "metadata": {
    "collapsed": false
   }
  }
 ],
 "metadata": {
  "kernelspec": {
   "display_name": "Python 3",
   "language": "python",
   "name": "python3"
  },
  "language_info": {
   "codemirror_mode": {
    "name": "ipython",
    "version": 2
   },
   "file_extension": ".py",
   "mimetype": "text/x-python",
   "name": "python",
   "nbconvert_exporter": "python",
   "pygments_lexer": "ipython2",
   "version": "2.7.6"
  }
 },
 "nbformat": 4,
 "nbformat_minor": 0
}
