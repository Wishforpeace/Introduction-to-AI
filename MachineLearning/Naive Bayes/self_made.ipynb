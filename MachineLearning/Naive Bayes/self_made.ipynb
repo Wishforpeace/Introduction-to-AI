{
 "cells": [
  {
   "cell_type": "code",
   "execution_count": null,
   "metadata": {
    "collapsed": true
   },
   "outputs": [],
   "source": [
    "class NaiveBayes(ClassifierBase,metaclass=ClassifierMeta):\n",
    "    def __init__(self):\n",
    "        self._x = self._y = None\n",
    "        self._data = self._func = None\n",
    "        self._n_possibilities = None\n",
    "        self._labelled_x = self._label_zip = None\n",
    "        self._cat_counter = self._con_counter = None\n",
    "        self.label_dic = self._feat_dics = None"
   ]
  }
 ],
 "metadata": {
  "kernelspec": {
   "display_name": "Python 3",
   "language": "python",
   "name": "python3"
  },
  "language_info": {
   "codemirror_mode": {
    "name": "ipython",
    "version": 2
   },
   "file_extension": ".py",
   "mimetype": "text/x-python",
   "name": "python",
   "nbconvert_exporter": "python",
   "pygments_lexer": "ipython2",
   "version": "2.7.6"
  }
 },
 "nbformat": 4,
 "nbformat_minor": 0
}
