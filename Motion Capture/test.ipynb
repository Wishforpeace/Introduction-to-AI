{
 "cells": [
  {
   "cell_type": "code",
   "execution_count": null,
   "metadata": {
    "collapsed": true,
    "pycharm": {
     "is_executing": true
    }
   },
   "outputs": [],
   "source": [
    "import cv2\n",
    "\n",
    "# 捕捉摄像头的视频流\n",
    "cap = cv2.VideoCapture(0)\n",
    "\n",
    "# 创建一个 BackgroundSubtractor 对象\n",
    "fgbg = cv2.createBackgroundSubtractorMOG2()\n",
    "\n",
    "while True:\n",
    "    # 读取视频帧\n",
    "    ret, frame = cap.read()\n",
    "\n",
    "    # 对视频帧进行预处理，例如将颜色空间转换为灰度图像\n",
    "    gray = cv2.cvtColor(frame, cv2.COLOR_BGR2GRAY)\n",
    "\n",
    "    # 使用 BackgroundSubtractor 对象对视频帧进行前景提取\n",
    "    fgmask = fgbg.apply(gray)\n",
    "\n",
    "    # 对前景图像进行形态学操作，例如腐蚀和膨胀\n",
    "    kernel = cv2.getStructuringElement(cv2.MORPH_ELLIPSE, (5, 5))\n",
    "    fgmask = cv2.erode(fgmask, kernel, iterations=1)\n",
    "    fgmask = cv2.dilate(fgmask, kernel, iterations=1)\n",
    "\n",
    "    # 在原始视频帧上绘制前景图像\n",
    "    result = cv2.bitwise_and(frame, frame, mask=fgmask)\n",
    "\n",
    "    # 显示处理结果\n",
    "    cv2.imshow('result', result)\n",
    "\n",
    "    # 等待用户按下 ESC 键退出程序\n",
    "    if cv2.waitKey(1) == 27:\n",
    "        break\n",
    "\n",
    "# 释放摄像头资源，关闭所有窗口\n",
    "cap.release()\n",
    "cv2.destroyAllWindows()\n"
   ]
  },
  {
   "cell_type": "code",
   "execution_count": null,
   "outputs": [],
   "source": [],
   "metadata": {
    "collapsed": false,
    "pycharm": {
     "name": "#%%\n"
    }
   }
  }
 ],
 "metadata": {
  "kernelspec": {
   "display_name": "Python 3",
   "language": "python",
   "name": "python3"
  },
  "language_info": {
   "codemirror_mode": {
    "name": "ipython",
    "version": 2
   },
   "file_extension": ".py",
   "mimetype": "text/x-python",
   "name": "python",
   "nbconvert_exporter": "python",
   "pygments_lexer": "ipython2",
   "version": "2.7.6"
  }
 },
 "nbformat": 4,
 "nbformat_minor": 0
}