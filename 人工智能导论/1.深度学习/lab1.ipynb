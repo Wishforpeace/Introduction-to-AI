{
 "cells": [
  {
   "cell_type": "code",
   "execution_count": null,
   "metadata": {
    "collapsed": true
   },
   "outputs": [
    {
     "ename": "RuntimeError",
     "evalue": "Unsupported device target Ascend. This process only supports one of the ['CPU']. Please check whether the Ascend environment is installed and configured correctly, and check whether current mindspore wheel package was built with \"-e Ascend\". For details, please refer to \"Device load error message\".\n\n----------------------------------------------------\n- Device load error message:\n----------------------------------------------------\nPlugin path is invalid, skip!\n\n----------------------------------------------------\n- C++ Call Stack: (For framework developers)\n----------------------------------------------------\nmindspore/core/utils/ms_context.cc:312 SetDeviceTargetFromInner\n",
     "output_type": "error",
     "traceback": [
      "\u001B[0;31m---------------------------------------------------------------------------\u001B[0m",
      "\u001B[0;31mRuntimeError\u001B[0m                              Traceback (most recent call last)",
      "Cell \u001B[0;32mIn[1], line 28\u001B[0m\n\u001B[1;32m     26\u001B[0m \u001B[38;5;28;01mfrom\u001B[39;00m \u001B[38;5;21;01mmindspore\u001B[39;00m \u001B[38;5;28;01mimport\u001B[39;00m Tensor\n\u001B[1;32m     27\u001B[0m \u001B[38;5;66;03m# 设置MindSpore的执行模式和设备，此处我们使用的是云平台环境ModelArts上的昇腾算力(“Ascend”)，若在本地执行，device_target参数设置为“CPU”\u001B[39;00m\n\u001B[0;32m---> 28\u001B[0m \u001B[43mcontext\u001B[49m\u001B[38;5;241;43m.\u001B[39;49m\u001B[43mset_context\u001B[49m\u001B[43m(\u001B[49m\u001B[43mmode\u001B[49m\u001B[38;5;241;43m=\u001B[39;49m\u001B[43mcontext\u001B[49m\u001B[38;5;241;43m.\u001B[39;49m\u001B[43mGRAPH_MODE\u001B[49m\u001B[43m,\u001B[49m\u001B[43m \u001B[49m\u001B[43mdevice_target\u001B[49m\u001B[38;5;241;43m=\u001B[39;49m\u001B[38;5;124;43m\"\u001B[39;49m\u001B[38;5;124;43mAscend\u001B[39;49m\u001B[38;5;124;43m\"\u001B[39;49m\u001B[43m)\u001B[49m\n",
      "File \u001B[0;32m~/anaconda3/envs/AI/lib/python3.8/site-packages/mindspore/_checkparam.py:1296\u001B[0m, in \u001B[0;36margs_type_check.<locals>.type_check.<locals>.wrapper\u001B[0;34m(*args, **kwargs)\u001B[0m\n\u001B[1;32m   1293\u001B[0m         \u001B[38;5;28;01mif\u001B[39;00m value \u001B[38;5;129;01mis\u001B[39;00m \u001B[38;5;129;01mnot\u001B[39;00m \u001B[38;5;28;01mNone\u001B[39;00m \u001B[38;5;129;01mand\u001B[39;00m \u001B[38;5;129;01mnot\u001B[39;00m \u001B[38;5;28misinstance\u001B[39m(value, bound_types[name]):\n\u001B[1;32m   1294\u001B[0m             \u001B[38;5;28;01mraise\u001B[39;00m \u001B[38;5;167;01mTypeError\u001B[39;00m(\u001B[38;5;124m\"\u001B[39m\u001B[38;5;124mThe parameter \u001B[39m\u001B[38;5;124m'\u001B[39m\u001B[38;5;132;01m{}\u001B[39;00m\u001B[38;5;124m'\u001B[39m\u001B[38;5;124m must be \u001B[39m\u001B[38;5;132;01m{}\u001B[39;00m\u001B[38;5;124m, but got \u001B[39m\u001B[38;5;132;01m{}\u001B[39;00m\u001B[38;5;124m\"\u001B[39m\n\u001B[1;32m   1295\u001B[0m                             \u001B[38;5;241m.\u001B[39mformat(name, bound_types[name], \u001B[38;5;28mtype\u001B[39m(value)))\n\u001B[0;32m-> 1296\u001B[0m \u001B[38;5;28;01mreturn\u001B[39;00m \u001B[43mfunc\u001B[49m\u001B[43m(\u001B[49m\u001B[38;5;241;43m*\u001B[39;49m\u001B[43margs\u001B[49m\u001B[43m,\u001B[49m\u001B[43m \u001B[49m\u001B[38;5;241;43m*\u001B[39;49m\u001B[38;5;241;43m*\u001B[39;49m\u001B[43mkwargs\u001B[49m\u001B[43m)\u001B[49m\n",
      "File \u001B[0;32m~/anaconda3/envs/AI/lib/python3.8/site-packages/mindspore/context.py:1153\u001B[0m, in \u001B[0;36mset_context\u001B[0;34m(**kwargs)\u001B[0m\n\u001B[1;32m   1151\u001B[0m \u001B[38;5;66;03m# set device target first\u001B[39;00m\n\u001B[1;32m   1152\u001B[0m \u001B[38;5;28;01mif\u001B[39;00m \u001B[38;5;124m'\u001B[39m\u001B[38;5;124mdevice_target\u001B[39m\u001B[38;5;124m'\u001B[39m \u001B[38;5;129;01min\u001B[39;00m kwargs:\n\u001B[0;32m-> 1153\u001B[0m     \u001B[43mctx\u001B[49m\u001B[38;5;241;43m.\u001B[39;49m\u001B[43mset_device_target\u001B[49m\u001B[43m(\u001B[49m\u001B[43mkwargs\u001B[49m\u001B[43m[\u001B[49m\u001B[38;5;124;43m'\u001B[39;49m\u001B[38;5;124;43mdevice_target\u001B[39;49m\u001B[38;5;124;43m'\u001B[39;49m\u001B[43m]\u001B[49m\u001B[43m)\u001B[49m\n\u001B[1;32m   1154\u001B[0m device \u001B[38;5;241m=\u001B[39m ctx\u001B[38;5;241m.\u001B[39mget_param(ms_ctx_param\u001B[38;5;241m.\u001B[39mdevice_target)\n\u001B[1;32m   1155\u001B[0m \u001B[38;5;28;01mfor\u001B[39;00m key, value \u001B[38;5;129;01min\u001B[39;00m kwargs\u001B[38;5;241m.\u001B[39mitems():\n",
      "File \u001B[0;32m~/anaconda3/envs/AI/lib/python3.8/site-packages/mindspore/context.py:311\u001B[0m, in \u001B[0;36m_Context.set_device_target\u001B[0;34m(self, target)\u001B[0m\n\u001B[1;32m    309\u001B[0m     logger\u001B[38;5;241m.\u001B[39minfo(\u001B[38;5;124m\"\u001B[39m\u001B[38;5;124mReset device target to CPU when set_device_target.\u001B[39m\u001B[38;5;124m\"\u001B[39m)\n\u001B[1;32m    310\u001B[0m     target \u001B[38;5;241m=\u001B[39m \u001B[38;5;124m\"\u001B[39m\u001B[38;5;124mCPU\u001B[39m\u001B[38;5;124m\"\u001B[39m\n\u001B[0;32m--> 311\u001B[0m \u001B[38;5;28;43mself\u001B[39;49m\u001B[38;5;241;43m.\u001B[39;49m\u001B[43mset_param\u001B[49m\u001B[43m(\u001B[49m\u001B[43mms_ctx_param\u001B[49m\u001B[38;5;241;43m.\u001B[39;49m\u001B[43mdevice_target\u001B[49m\u001B[43m,\u001B[49m\u001B[43m \u001B[49m\u001B[43mtarget\u001B[49m\u001B[43m)\u001B[49m\n\u001B[1;32m    312\u001B[0m \u001B[38;5;28;01mif\u001B[39;00m \u001B[38;5;28mself\u001B[39m\u001B[38;5;241m.\u001B[39menable_debug_runtime \u001B[38;5;129;01mand\u001B[39;00m target \u001B[38;5;241m==\u001B[39m \u001B[38;5;124m\"\u001B[39m\u001B[38;5;124mCPU\u001B[39m\u001B[38;5;124m\"\u001B[39m:\n\u001B[1;32m    313\u001B[0m     \u001B[38;5;28mself\u001B[39m\u001B[38;5;241m.\u001B[39mset_backend_policy(\u001B[38;5;124m\"\u001B[39m\u001B[38;5;124mvm\u001B[39m\u001B[38;5;124m\"\u001B[39m)\n",
      "File \u001B[0;32m~/anaconda3/envs/AI/lib/python3.8/site-packages/mindspore/context.py:171\u001B[0m, in \u001B[0;36m_Context.set_param\u001B[0;34m(self, param, value)\u001B[0m\n\u001B[1;32m    170\u001B[0m \u001B[38;5;28;01mdef\u001B[39;00m \u001B[38;5;21mset_param\u001B[39m(\u001B[38;5;28mself\u001B[39m, param, value):\n\u001B[0;32m--> 171\u001B[0m     \u001B[38;5;28;43mself\u001B[39;49m\u001B[38;5;241;43m.\u001B[39;49m\u001B[43m_context_handle\u001B[49m\u001B[38;5;241;43m.\u001B[39;49m\u001B[43mset_param\u001B[49m\u001B[43m(\u001B[49m\u001B[43mparam\u001B[49m\u001B[43m,\u001B[49m\u001B[43m \u001B[49m\u001B[43mvalue\u001B[49m\u001B[43m)\u001B[49m\n",
      "\u001B[0;31mRuntimeError\u001B[0m: Unsupported device target Ascend. This process only supports one of the ['CPU']. Please check whether the Ascend environment is installed and configured correctly, and check whether current mindspore wheel package was built with \"-e Ascend\". For details, please refer to \"Device load error message\".\n\n----------------------------------------------------\n- Device load error message:\n----------------------------------------------------\nPlugin path is invalid, skip!\n\n----------------------------------------------------\n- C++ Call Stack: (For framework developers)\n----------------------------------------------------\nmindspore/core/utils/ms_context.cc:312 SetDeviceTargetFromInner\n"
     ]
    }
   ],
   "source": [
    "#easydict模块用于以属性的方式访问字典的值\n",
    "from easydict import EasyDict as edict\n",
    "#glob模块主要用于查找符合特定规则的文件路径名，类似使用windows下的文件搜索\n",
    "import glob\n",
    "#os模块主要用于处理文件和目录\n",
    "import os\n",
    "\n",
    "import numpy as np\n",
    "import matplotlib.pyplot as plt\n",
    "\n",
    "import mindspore\n",
    "#导入mindspore框架数据集\n",
    "import mindspore.dataset as ds\n",
    "#vision.c_transforms模块是处理图像增强的高性能模块，用于数据增强图像数据改进训练模型。\n",
    "import mindspore.dataset.vision.c_transforms as CV\n",
    "#c_transforms模块提供常用操作，包括OneHotOp和TypeCast\n",
    "import mindspore.dataset.transforms.c_transforms as C\n",
    "from mindspore.common import dtype as mstype\n",
    "from mindspore import context\n",
    "#导入模块用于初始化截断正态分布\n",
    "from mindspore.common.initializer import TruncatedNormal\n",
    "from mindspore import nn\n",
    "from mindspore.train import Model\n",
    "from mindspore.train.callback import ModelCheckpoint, CheckpointConfig, LossMonitor, TimeMonitor\n",
    "from mindspore.train.serialization import load_checkpoint, load_param_into_net\n",
    "from mindspore import Tensor\n",
    "# 设置MindSpore的执行模式和设备，此处我们使用的是云平台环境ModelArts上的昇腾算力(“Ascend”)，若在本地执行，device_target参数设置为“CPU”\n",
    "context.set_context(mode=context.GRAPH_MODE, device_target=\"CPU\")\n"
   ]
  },
  {
   "cell_type": "code",
   "execution_count": null,
   "outputs": [],
   "source": [
    "cfg = edict({\n",
    "    'data_path': 'flower_photos',\n",
    "    'data_size':3670,\n",
    "    'image_width': 100,  # 图片宽度\n",
    "    'image_height': 100,  # 图片高度\n",
    "    'batch_size': 32,\n",
    "    'channel': 3,  # 图片通道数\n",
    "    'num_class':5,  # 分类类别\n",
    "    'weight_decay': 0.01,\n",
    "    'lr':0.0001,  # 学习率\n",
    "    'dropout_ratio': 0.5,\n",
    "    'epoch_size': 400,  # 训练次数\n",
    "    'sigma':0.01,\n",
    "\n",
    "    'save_checkpoint_steps': 1,  # 多少步保存一次模型\n",
    "    'keep_checkpoint_max': 1,  # 最多保存多少个模型\n",
    "    'output_directory': './',  # 保存模型路径\n",
    "    'output_prefix': \"checkpoint_classification\"  # 保存模型文件名字\n",
    "})\n"
   ],
   "metadata": {
    "collapsed": false
   }
  }
 ],
 "metadata": {
  "kernelspec": {
   "display_name": "Python 3",
   "language": "python",
   "name": "python3"
  },
  "language_info": {
   "codemirror_mode": {
    "name": "ipython",
    "version": 2
   },
   "file_extension": ".py",
   "mimetype": "text/x-python",
   "name": "python",
   "nbconvert_exporter": "python",
   "pygments_lexer": "ipython2",
   "version": "2.7.6"
  }
 },
 "nbformat": 4,
 "nbformat_minor": 0
}
